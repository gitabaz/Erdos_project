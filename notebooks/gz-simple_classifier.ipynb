{
 "cells": [
  {
   "cell_type": "code",
   "execution_count": 1,
   "id": "be9c8178-cd89-402f-a1f7-1f3f30e9d6eb",
   "metadata": {},
   "outputs": [],
   "source": [
    "import sqlite3\n",
    "import pandas as pd"
   ]
  },
  {
   "cell_type": "code",
   "execution_count": 2,
   "id": "4243c264-16a3-4f7b-a7d8-0c89cbf24651",
   "metadata": {},
   "outputs": [],
   "source": [
    "with sqlite3.connect(\"../processed_data/news_stories.db\") as con:\n",
    "    df = pd.read_sql_query(\"SELECT * FROM small_subset\", con)"
   ]
  },
  {
   "cell_type": "code",
   "execution_count": 3,
   "id": "2436e1e9-be30-4bdd-819b-ec0b4a44e4b7",
   "metadata": {},
   "outputs": [
    {
     "name": "stdout",
     "output_type": "stream",
     "text": [
      "<class 'pandas.core.frame.DataFrame'>\n",
      "RangeIndex: 134959 entries, 0 to 134958\n",
      "Data columns (total 12 columns):\n",
      " #   Column       Non-Null Count   Dtype \n",
      "---  ------       --------------   ----- \n",
      " 0                134959 non-null  object\n",
      " 1   Unnamed: 0   134959 non-null  object\n",
      " 2   date         134959 non-null  object\n",
      " 3   year         134959 non-null  object\n",
      " 4   month        134959 non-null  object\n",
      " 5   day          134959 non-null  object\n",
      " 6   author       134959 non-null  object\n",
      " 7   title        134959 non-null  object\n",
      " 8   article      134959 non-null  object\n",
      " 9   url          134959 non-null  object\n",
      " 10  section      134959 non-null  object\n",
      " 11  publication  134959 non-null  object\n",
      "dtypes: object(12)\n",
      "memory usage: 12.4+ MB\n"
     ]
    }
   ],
   "source": [
    "df.info()"
   ]
  },
  {
   "cell_type": "code",
   "execution_count": null,
   "id": "4f4723d8-2da8-44ad-ae05-17921eb75604",
   "metadata": {},
   "outputs": [],
   "source": []
  }
 ],
 "metadata": {
  "kernelspec": {
   "display_name": "Python 3 (ipykernel)",
   "language": "python",
   "name": "python3"
  },
  "language_info": {
   "codemirror_mode": {
    "name": "ipython",
    "version": 3
   },
   "file_extension": ".py",
   "mimetype": "text/x-python",
   "name": "python",
   "nbconvert_exporter": "python",
   "pygments_lexer": "ipython3",
   "version": "3.10.0"
  }
 },
 "nbformat": 4,
 "nbformat_minor": 5
}
